{
  "nbformat": 4,
  "nbformat_minor": 0,
  "metadata": {
    "colab": {
      "provenance": [],
      "collapsed_sections": []
    },
    "kernelspec": {
      "name": "python3",
      "display_name": "Python 3"
    },
    "language_info": {
      "name": "python"
    }
  },
  "cells": [
    {
      "cell_type": "code",
      "execution_count": null,
      "metadata": {
        "id": "JO5sOAEht0xP"
      },
      "outputs": [],
      "source": [
        "#Import libraries\n",
        "import IPython\n",
        "import numpy as np\n",
        "import scipy as sp\n",
        "import pandas as pd\n",
        "import matplotlib\n",
        "import sklearn"
      ]
    },
    {
      "cell_type": "code",
      "source": [
        "from sklearn.datasets import load_boston\n",
        "bdata = load_boston()"
      ],
      "metadata": {
        "colab": {
          "base_uri": "https://localhost:8080/"
        },
        "id": "tXBjrI0gt6kn",
        "outputId": "55da1c2d-1d19-41c0-9997-2e31d251437f"
      },
      "execution_count": null,
      "outputs": [
        {
          "output_type": "stream",
          "name": "stderr",
          "text": [
            "/usr/local/lib/python3.7/dist-packages/sklearn/utils/deprecation.py:87: FutureWarning: Function load_boston is deprecated; `load_boston` is deprecated in 1.0 and will be removed in 1.2.\n",
            "\n",
            "    The Boston housing prices dataset has an ethical problem. You can refer to\n",
            "    the documentation of this function for further details.\n",
            "\n",
            "    The scikit-learn maintainers therefore strongly discourage the use of this\n",
            "    dataset unless the purpose of the code is to study and educate about\n",
            "    ethical issues in data science and machine learning.\n",
            "\n",
            "    In this special case, you can fetch the dataset from the original\n",
            "    source::\n",
            "\n",
            "        import pandas as pd\n",
            "        import numpy as np\n",
            "\n",
            "\n",
            "        data_url = \"http://lib.stat.cmu.edu/datasets/boston\"\n",
            "        raw_df = pd.read_csv(data_url, sep=\"\\s+\", skiprows=22, header=None)\n",
            "        data = np.hstack([raw_df.values[::2, :], raw_df.values[1::2, :2]])\n",
            "        target = raw_df.values[1::2, 2]\n",
            "\n",
            "    Alternative datasets include the California housing dataset (i.e.\n",
            "    :func:`~sklearn.datasets.fetch_california_housing`) and the Ames housing\n",
            "    dataset. You can load the datasets as follows::\n",
            "\n",
            "        from sklearn.datasets import fetch_california_housing\n",
            "        housing = fetch_california_housing()\n",
            "\n",
            "    for the California housing dataset and::\n",
            "\n",
            "        from sklearn.datasets import fetch_openml\n",
            "        housing = fetch_openml(name=\"house_prices\", as_frame=True)\n",
            "\n",
            "    for the Ames housing dataset.\n",
            "    \n",
            "  warnings.warn(msg, category=FutureWarning)\n"
          ]
        }
      ]
    },
    {
      "cell_type": "code",
      "source": [
        "print(bdata.keys())\n",
        "print(bdata.feature_names)\n",
        "print(bdata.data.shape)\n",
        "print(bdata.target.shape)\n",
        "print(bdata.DESCR)"
      ],
      "metadata": {
        "colab": {
          "base_uri": "https://localhost:8080/"
        },
        "id": "YCrmK6aSt6xl",
        "outputId": "f83d0eef-08e8-45ec-c8d1-6ab708e6de21"
      },
      "execution_count": null,
      "outputs": [
        {
          "output_type": "stream",
          "name": "stdout",
          "text": [
            "dict_keys(['data', 'target', 'feature_names', 'DESCR', 'filename', 'data_module'])\n",
            "['CRIM' 'ZN' 'INDUS' 'CHAS' 'NOX' 'RM' 'AGE' 'DIS' 'RAD' 'TAX' 'PTRATIO'\n",
            " 'B' 'LSTAT']\n",
            "(506, 13)\n",
            "(506,)\n",
            ".. _boston_dataset:\n",
            "\n",
            "Boston house prices dataset\n",
            "---------------------------\n",
            "\n",
            "**Data Set Characteristics:**  \n",
            "\n",
            "    :Number of Instances: 506 \n",
            "\n",
            "    :Number of Attributes: 13 numeric/categorical predictive. Median Value (attribute 14) is usually the target.\n",
            "\n",
            "    :Attribute Information (in order):\n",
            "        - CRIM     per capita crime rate by town\n",
            "        - ZN       proportion of residential land zoned for lots over 25,000 sq.ft.\n",
            "        - INDUS    proportion of non-retail business acres per town\n",
            "        - CHAS     Charles River dummy variable (= 1 if tract bounds river; 0 otherwise)\n",
            "        - NOX      nitric oxides concentration (parts per 10 million)\n",
            "        - RM       average number of rooms per dwelling\n",
            "        - AGE      proportion of owner-occupied units built prior to 1940\n",
            "        - DIS      weighted distances to five Boston employment centres\n",
            "        - RAD      index of accessibility to radial highways\n",
            "        - TAX      full-value property-tax rate per $10,000\n",
            "        - PTRATIO  pupil-teacher ratio by town\n",
            "        - B        1000(Bk - 0.63)^2 where Bk is the proportion of black people by town\n",
            "        - LSTAT    % lower status of the population\n",
            "        - MEDV     Median value of owner-occupied homes in $1000's\n",
            "\n",
            "    :Missing Attribute Values: None\n",
            "\n",
            "    :Creator: Harrison, D. and Rubinfeld, D.L.\n",
            "\n",
            "This is a copy of UCI ML housing dataset.\n",
            "https://archive.ics.uci.edu/ml/machine-learning-databases/housing/\n",
            "\n",
            "\n",
            "This dataset was taken from the StatLib library which is maintained at Carnegie Mellon University.\n",
            "\n",
            "The Boston house-price data of Harrison, D. and Rubinfeld, D.L. 'Hedonic\n",
            "prices and the demand for clean air', J. Environ. Economics & Management,\n",
            "vol.5, 81-102, 1978.   Used in Belsley, Kuh & Welsch, 'Regression diagnostics\n",
            "...', Wiley, 1980.   N.B. Various transformations are used in the table on\n",
            "pages 244-261 of the latter.\n",
            "\n",
            "The Boston house-price data has been used in many machine learning papers that address regression\n",
            "problems.   \n",
            "     \n",
            ".. topic:: References\n",
            "\n",
            "   - Belsley, Kuh & Welsch, 'Regression diagnostics: Identifying Influential Data and Sources of Collinearity', Wiley, 1980. 244-261.\n",
            "   - Quinlan,R. (1993). Combining Instance-Based and Model-Based Learning. In Proceedings on the Tenth International Conference of Machine Learning, 236-243, University of Massachusetts, Amherst. Morgan Kaufmann.\n",
            "\n"
          ]
        }
      ]
    },
    {
      "cell_type": "code",
      "source": [
        "# prepare IPython to work with matplotlib and import the library to something convenient\n",
        "%matplotlib inline  \n",
        "import matplotlib.pyplot as plt\n",
        "\n",
        "#Define ax subplot to edit axes\n",
        "ax = plt.subplot(111)\n",
        "\n",
        "#Create histogram with binwidth=1 ($1000)\n",
        "#Set color to green and histtype to one that doesn't include borders\n",
        "ax.hist(bdata.target,bins=np.arange(min(bdata.target),max(bdata.target)+1,1),\n",
        "       facecolor=\"green\", color=\"white\", histtype=\"step\", alpha=0.75, fill=True)\n",
        "\n",
        "#Get rid of axes and tick marks on top and right\n",
        "ax.spines[\"right\"].set_visible(False)\n",
        "ax.spines[\"top\"].set_visible(False)\n",
        "ax.yaxis.set_ticks_position(\"left\")\n",
        "ax.xaxis.set_ticks_position(\"bottom\")\n",
        "\n",
        "#Add title, xlabels, and ylabels\n",
        "plt.title(\"Median Housing Prices in Boston Suburbs\")\n",
        "plt.xlabel(\"Median Owner-Occupied Home Value (by $1000)\")\n",
        "plt.ylabel(\"Frequency\")\n",
        "\n",
        "#Show plot\n",
        "plt.show()"
      ],
      "metadata": {
        "colab": {
          "base_uri": "https://localhost:8080/",
          "height": 295
        },
        "id": "nqr2NhX2uZn6",
        "outputId": "68023db2-37ea-4f1f-e137-7d3594e8aee0"
      },
      "execution_count": null,
      "outputs": [
        {
          "output_type": "display_data",
          "data": {
            "text/plain": [
              "<Figure size 432x288 with 1 Axes>"
            ],
            "image/png": "[encoded data removed]"
          },
          "metadata": {
            "needs_background": "light"
          }
        }
      ]
    },
    {
      "cell_type": "code",
      "source": [
        "#Create pd dataframe for data with the correct types of data for each variable\n",
        "boston_df = pd.DataFrame(bdata.data, columns=bdata.feature_names)\n",
        "boston_df[\"MEDV\"] = pd.DataFrame(bdata.target, columns=[\"MEDV\"])\n",
        "boston_df[\"RAD\"] = boston_df[\"RAD\"].astype(int)\n",
        "boston_df[\"CHAS\"] = boston_df[\"CHAS\"].astype(object)"
      ],
      "metadata": {
        "id": "TlTxGt6Guemj"
      },
      "execution_count": null,
      "outputs": []
    },
    {
      "cell_type": "code",
      "source": [
        "#Create scatterplot of MEDV vs. CRIM\n",
        "ax1 = plt.subplot(111)\n",
        "ax1.plot(boston_df.CRIM, boston_df.MEDV, \"ko\", markersize=1.5)\n",
        "ax1.set_ybound(0,51)\n",
        "\n",
        "#Get rid of axes and tick marks on top and right\n",
        "ax1.spines[\"right\"].set_visible(False)\n",
        "ax1.spines[\"top\"].set_visible(False)\n",
        "ax1.yaxis.set_ticks_position(\"left\")\n",
        "ax1.xaxis.set_ticks_position(\"bottom\")\n",
        "\n",
        "#Add title, xlabels, and ylabels\n",
        "plt.title(\"Median Housing Prices by Crime Rate\")\n",
        "plt.xlabel(\"Crime Rate per capita\")\n",
        "plt.ylabel(\"Median Home Value (in $1000)\")\n",
        "\n",
        "#Show Plot\n",
        "plt.show()"
      ],
      "metadata": {
        "colab": {
          "base_uri": "https://localhost:8080/",
          "height": 295
        },
        "id": "WTlu5UDLuj3W",
        "outputId": "571232e2-2104-4040-a811-95ba625d4e70"
      },
      "execution_count": null,
      "outputs": [
        {
          "output_type": "display_data",
          "data": {
            "text/plain": [
              "<Figure size 432x288 with 1 Axes>"
            ],
            "image/png": "[encoded data removed]"
          },
          "metadata": {
            "needs_background": "light"
          }
        }
      ]
    },
    {
      "cell_type": "code",
      "source": [
        "#Plot Median Household Income by Distance to Employment Center\n",
        "#Each point's size will be determined by proportion of buildings built before 1940\n",
        "\n",
        "#Create scatterplot of MEDV vs. LSTAT with point size determined by crime rate\n",
        "ax2 = plt.subplot(111)\n",
        "ax2.scatter(boston_df.LSTAT, boston_df.MEDV, s=boston_df.CRIM+10, alpha=0.4)\n",
        "ax2.set_ybound(0,52)\n",
        "ax2.set_xbound(0,40)\n",
        "\n",
        "#Get rid of axes and tick marks on top and right\n",
        "ax2.spines[\"right\"].set_visible(False)\n",
        "ax2.spines[\"top\"].set_visible(False)\n",
        "ax2.yaxis.set_ticks_position(\"left\")\n",
        "ax2.xaxis.set_ticks_position(\"bottom\")\n",
        "\n",
        "plt.title(\"Median Housing Prices by Poverty and Crime Rates\")\n",
        "plt.xlabel(\"Percentage of Lower Status Population \\n (Larger points indicate higher crime rates)\")\n",
        "plt.ylabel(\"Median Home Value (in $1000)\")\n",
        "\n",
        "plt.show()"
      ],
      "metadata": {
        "colab": {
          "base_uri": "https://localhost:8080/",
          "height": 307
        },
        "id": "dCNMZNtTvSP1",
        "outputId": "a0b79657-ce68-4da9-a434-97945b38aa8c"
      },
      "execution_count": null,
      "outputs": [
        {
          "output_type": "display_data",
          "data": {
            "text/plain": [
              "<Figure size 432x288 with 1 Axes>"
            ],
            "image/png": "[encoded data removed]"
          },
          "metadata": {
            "needs_background": "light"
          }
        }
      ]
    },
    {
      "cell_type": "code",
      "source": [
        "def compute_rmse(predictions, yvalues):\n",
        "    resid = np.subtract(predictions,yvalues)\n",
        "    squared_resid = resid**2\n",
        "    n = squared_resid.size\n",
        "    sum_squared_resid = np.sum(squared_resid)\n",
        "    rmse = np.sqrt(sum_squared_resid/n)\n",
        "    return rmse\n",
        "print(\"Example: RMSE[(2,2,3),(0,2,6)] = %.2f\" % (compute_rmse((2,2,3),(0,2,6))))"
      ],
      "metadata": {
        "colab": {
          "base_uri": "https://localhost:8080/"
        },
        "id": "jcvDAnIVvWNU",
        "outputId": "7443554c-323d-4fbc-f909-daae8af8f6bf"
      },
      "execution_count": null,
      "outputs": [
        {
          "output_type": "stream",
          "name": "stdout",
          "text": [
            "Example: RMSE[(2,2,3),(0,2,6)] = 2.08\n"
          ]
        }
      ]
    },
    {
      "cell_type": "code",
      "source": [
        "#Splitting data using train_test_split. Use random state to repeat analysis.\n",
        "from sklearn.model_selection import train_test_split\n",
        "\n",
        "bdata_train, bdata_test = train_test_split(boston_df, test_size=0.34, random_state=200)"
      ],
      "metadata": {
        "id": "9mdDsKRzvge2"
      },
      "execution_count": null,
      "outputs": []
    },
    {
      "cell_type": "code",
      "source": [
        "#Poor Model function\n",
        "def poor_model(median_values):\n",
        "#Calculate the average median home value of training set\n",
        "    pred_value = np.mean(median_values)\n",
        "#Use this average as prediction for each element\n",
        "    pred_array = np.asarray([pred_value]*median_values.size)\n",
        "    return(pred_array)\n",
        "\n",
        "#Find RMSE for training set\n",
        "poor_model_pred_train = poor_model(bdata_train.MEDV)\n",
        "poor_model_rmse_train = compute_rmse(poor_model_pred_train, bdata_train.MEDV)\n",
        "\n",
        "#Find RMSE for testing set\n",
        "poor_model_pred_test = poor_model(bdata_test.MEDV)\n",
        "poor_model_rmse_test = compute_rmse(poor_model_pred_test, bdata_test.MEDV)\n",
        "\n",
        "#Print the results for each\n",
        "print(\"Training RMSE: %.4f\" % poor_model_rmse_train)\n",
        "print(\"Testing RMSE: %.4f\" % poor_model_rmse_test)"
      ],
      "metadata": {
        "colab": {
          "base_uri": "https://localhost:8080/"
        },
        "id": "arZyzTwJv5so",
        "outputId": "81e6df12-6442-44b5-d631-1185fcbab76f"
      },
      "execution_count": null,
      "outputs": [
        {
          "output_type": "stream",
          "name": "stdout",
          "text": [
            "Training RMSE: 8.6133\n",
            "Testing RMSE: 10.2023\n"
          ]
        }
      ]
    },
    {
      "cell_type": "code",
      "source": [
        "#Euclidean distance is measured by the sum of sqrt((x1-x2)^2))\n",
        "#Create function that outputs this distance for given values of x1, x2, and L\n",
        "def distance(x1, x2, L):\n",
        "    sum_dist = 0\n",
        "    for k in range(L):\n",
        "        sum_dist += (x1[k] - x2[k])**2\n",
        "    dist = sum_dist**(1/2)\n",
        "    return dist\n",
        "\n",
        "#Example\n",
        "print(\"Example: Sets (3,4) and (6,8) with L=2 results in the L-Norm Distance %.1f\" % (distance((3,4),(6,8),2)))"
      ],
      "metadata": {
        "colab": {
          "base_uri": "https://localhost:8080/"
        },
        "id": "auff3rVAwC1N",
        "outputId": "22871899-1143-447e-88d5-56fea839d3fb"
      },
      "execution_count": null,
      "outputs": [
        {
          "output_type": "stream",
          "name": "stdout",
          "text": [
            "Example: Sets (3,4) and (6,8) with L=2 results in the L-Norm Distance 5.0\n"
          ]
        }
      ]
    },
    {
      "cell_type": "code",
      "source": [
        "import time\n",
        "\n",
        "\n",
        "def knn(testing_data, training_data, L, K=1):\n",
        "    #Begin calculation timer\n",
        "    start_time = time.time()\n",
        "    \n",
        "    #Define empty arrays for: \n",
        "    #(1) The model predicted median home values for each testing instance  \n",
        "    #(2) The actual median home values for each testing instance   \n",
        "    predict_medv = []\n",
        "    actual_medv = []\n",
        "    \n",
        "    #Loop over all testing instances\n",
        "    for i in range(len(testing_data)):\n",
        "        \n",
        "        #Define current_test as the current iteration's testing values for each feature/variable\n",
        "        current_test = testing_data[i]\n",
        "        \n",
        "        #Create empty array that will contain euclidean distances between current testing instance and every training instance\n",
        "        distances = []\n",
        "        \n",
        "        #Loop the current testing instance over all training instances\n",
        "        for j in range(len(training_data)):\n",
        "            \n",
        "            #Define current_train as the current iteration's training values for each feature/variable\n",
        "            current_train = training_data[j]\n",
        "            \n",
        "            #Calculate distance between the jth training instance for testing instance i and append the following to the distance array:\n",
        "            #(1) The current training instances values for explanatory and response features/variables\n",
        "            #(2) The euclidean distance\n",
        "            current_dist = distance(current_train, current_test, L)\n",
        "            distances.append((current_train, current_dist))\n",
        "        \n",
        "        #After finding each distance between the current testing instance and all training instances,\n",
        "        #Sort the distances array by euclidean distances (ascending order)\n",
        "        distances.sort(key=lambda x: x[1])\n",
        "        \n",
        "        #Create empty array that will contain the training response variable (Lth feature is MEDV in this case)\n",
        "        #Iterate over given K (default is K=1) and add the training response variable for the first K values in sorted distance array (i.e., K closest neighbors)\n",
        "        k_nearest_dist = []\n",
        "        for k in range(K):\n",
        "            k_nearest_dist.append(distances[k][0][L])\n",
        "        \n",
        "        #Calculate the mean of the K closest neighbors as the predicted response of the current test instance.\n",
        "        k_mean_dist = np.mean(k_nearest_dist)\n",
        "        \n",
        "        #Append the prediction and actual response values for the current test instance\n",
        "        predict_medv.append(k_mean_dist)\n",
        "        actual_medv.append(current_test[L])\n",
        "    \n",
        "    #After completing the loop for each testing instance, calculate the RMSE using the predicted and actual arrays\n",
        "    rmse = compute_rmse(predict_medv,actual_medv)\n",
        "    \n",
        "    #Print the time taken to run knn function\n",
        "    print(\"Time taken: \" + str(round(time.time() - start_time,2)) + \" seconds\")\n",
        "    return rmse\n",
        "\n",
        "#For this example, we are going to use CRIM and RM to predict MEDV\n",
        "test_set = np.asarray(bdata_test[[\"CRIM\",\"RM\",\"MEDV\"]])\n",
        "train_set = np.asarray(bdata_train[[\"CRIM\",\"RM\",\"MEDV\"]])\n",
        "length = 2\n",
        "\n",
        "print(\"RMSE for K=1 nearest neighbor predicted MEDV response using CRIM and RM predictors: %.4f\" % (knn(test_set, train_set, length)))"
      ],
      "metadata": {
        "colab": {
          "base_uri": "https://localhost:8080/"
        },
        "id": "G5dvO5M5wSJI",
        "outputId": "c7cfcbb3-94b9-4278-a1ad-fc06f194882b"
      },
      "execution_count": null,
      "outputs": [
        {
          "output_type": "stream",
          "name": "stdout",
          "text": [
            "Time taken: 0.39 seconds\n",
            "RMSE for K=1 nearest neighbor predicted MEDV response using CRIM and RM predictors: 7.7841\n"
          ]
        }
      ]
    },
    {
      "cell_type": "code",
      "source": [
        "def normalize(raw_data):\n",
        "    n_instances = len(raw_data)\n",
        "    n_features = raw_data.shape[1]\n",
        "    normalized_data = np.zeros(shape=(n_instances,n_features))\n",
        "    normalized_data[:,n_features-1] = raw_data[:,n_features-1]\n",
        "    for i in range(n_features-1):\n",
        "        current_feature_mean = np.mean(raw_data[:,i])\n",
        "        current_feature_sd = np.std(raw_data[:,i])\n",
        "        normalized_data[:,i] = (raw_data[:,i]-current_feature_mean)/current_feature_sd        \n",
        "    return normalized_data\n",
        "\n",
        "norm_test_set_1 = normalize(test_set)\n",
        "norm_train_set_1 = normalize(train_set)\n",
        "length = 2\n",
        "\n"
      ],
      "metadata": {
        "id": "awjsWL3xwecy"
      },
      "execution_count": null,
      "outputs": []
    },
    {
      "cell_type": "code",
      "source": [
        "#different two features (DIS, LSTAT)\n",
        "norm_test_set_2 = normalize(np.asarray(bdata_test[[\"DIS\",\"LSTAT\",\"MEDV\"]]))\n",
        "norm_train_set_2 = normalize(np.asarray(bdata_train[[\"DIS\",\"LSTAT\",\"MEDV\"]]))\n",
        "length = 2\n",
        "\n",
        "print(\"RMSE for predicted MEDV response using L=2 normalized DIS and LSTAT predictors: %.4f\" % (knn(norm_test_set_2, norm_train_set_2, length)))"
      ],
      "metadata": {
        "colab": {
          "base_uri": "https://localhost:8080/"
        },
        "id": "BE2FcEn0wrFv",
        "outputId": "7d098188-2c1d-4d98-c37f-1d8315f202d0"
      },
      "execution_count": null,
      "outputs": [
        {
          "output_type": "stream",
          "name": "stdout",
          "text": [
            "Time taken: 0.29 seconds\n",
            "RMSE for predicted MEDV response using L=2 normalized DIS and LSTAT predictors: 6.7820\n"
          ]
        }
      ]
    },
    {
      "cell_type": "code",
      "source": [
        "#three features (RM, DIS, LSTAT)\n",
        "norm_test_set_3 = normalize(np.asarray(bdata_test[[\"RM\",\"DIS\",\"LSTAT\",\"MEDV\"]]))\n",
        "norm_train_set_3 = normalize(np.asarray(bdata_train[[\"RM\",\"DIS\",\"LSTAT\",\"MEDV\"]]))\n",
        "length = 3\n",
        "\n",
        "print(\"RMSE for predicted MEDV response using L=3 normalized RM, DIS and LSTAT predictors: %.4f\" % (knn(norm_test_set_3, norm_train_set_3, length)))"
      ],
      "metadata": {
        "colab": {
          "base_uri": "https://localhost:8080/"
        },
        "id": "LzF_T2r_wuMz",
        "outputId": "a9981201-f961-46e2-8c45-0d8a78b1fe11"
      },
      "execution_count": null,
      "outputs": [
        {
          "output_type": "stream",
          "name": "stdout",
          "text": [
            "Time taken: 0.19 seconds\n",
            "RMSE for predicted MEDV response using L=3 normalized RM, DIS and LSTAT predictors: 6.2181\n"
          ]
        }
      ]
    },
    {
      "cell_type": "code",
      "source": [
        "#Import random and math for cross-validation function\n",
        "import random, math\n",
        "\n",
        "#Define my_kfolds function\n",
        "def my_kfolds(full_df, nfolds, features, K=1):\n",
        "    \n",
        "    #Start timer for running the function\n",
        "    my_start_time = time.time()\n",
        "    \n",
        "    #Define n_instances as the number of rows within the given full dataframe\n",
        "    n_instances = full_df.shape[0]\n",
        "    \n",
        "    #Find the maximum number of instances that each group can have while maintaining equal-sized folds constraint\n",
        "    min_per_group = math.floor(n_instances/nfolds)\n",
        "    \n",
        "    #Find the remaining number of instances that can't be evenly split (i.e., one for each fold).\n",
        "    remainder = n_instances - nfolds*min_per_group\n",
        "    \n",
        "    #Create a listed sequence from 0 to nfolds-1. \n",
        "    #This sequence will be the \"factors\" used to divide the full dataset into equal-sized folds\n",
        "    fold_seq = list(range(nfolds))\n",
        "    \n",
        "    #Create an empty array that will end up being the \"GROUP\" column appended to the full dataframe\n",
        "    fold_group = []\n",
        "    \n",
        "    #Loop over the maximum number of times we can add each value of the fold_seq to the dataset rows without leaving any value out\n",
        "    for i in range(min_per_group):\n",
        "        #For each iteration, randomly sample all values within fold_seq. Append each shuffled iteration's sequence to fold_group.\n",
        "        #(Note: This method performs random.shuffle while being able to assign the shuffled sequence to a variable.)\n",
        "        new_set = random.sample(fold_seq,  nfolds)\n",
        "        fold_group.extend(new_set)\n",
        "    \n",
        "    #If the dataset doesn't allow perfectly equal-sized folds, randomly assign the remainder--maximum of one for any individual fold. \n",
        "    remainder_group = random.sample(fold_seq, remainder)\n",
        "    \n",
        "    #Add the remainder_group to fold_group to create a vector of randomly assigned folds/groups for each row in the full dataset.\n",
        "    fold_group.extend(remainder_group)\n",
        "    \n",
        "    #Add fold_group to the full dataset with column name \"GROUP\"\n",
        "    full_df[\"GROUP\"] = fold_group\n",
        "    \n",
        "    #Create an empty dictionary called \"subsets\" that will contain the dataframe subsets for each fold\n",
        "    subsets = {}\n",
        "    \n",
        "    #Iterate over nfolds and assign each dataframe instance to its subset/fold by its randomly assigned \"GROUP\" value.\n",
        "    for i in range(nfolds):\n",
        "        subsets[i] = full_df[full_df[\"GROUP\"]==i]\n",
        "    \n",
        "    #L = number of explanatory features, so I assign length for use in the knn/nneighbor functions.    \n",
        "    length = len(features) - 1\n",
        "    \n",
        "    #Create an array that will contain the RMSE calculated for each cross-validated fold.\n",
        "    all_rmse = []\n",
        "    \n",
        "    #Perform cross-validation by iterating over each fold\n",
        "    for i in range(nfolds):\n",
        "        \n",
        "        #Define the testing set as the current iteration's normalized fold/subset (as an array)\n",
        "        current_test = normalize(np.asarray(subsets[i][features]))\n",
        "        \n",
        "        #Initialize an empty dataframe for the current iteration's training subset\n",
        "        #Ensure the dataframe has the correct number of columns to match the given features\n",
        "        current_train_df = pd.DataFrame(columns=features)\n",
        "        \n",
        "        #Iterate over all folds\n",
        "        for j in range(nfolds):\n",
        "            \n",
        "            #Concatenate each subset's dataframe for the given features EXCEPT for the current iteration's testing subset\n",
        "            if j != i:\n",
        "                current_train_df = pd.concat([current_train_df, subsets[j][features]])\n",
        "            else:\n",
        "                continue\n",
        "        \n",
        "        #Define the training set as the combination of all normalized (as array) folds--excluding the current testing fold.\n",
        "        current_train = normalize(np.asarray(current_train_df))\n",
        "        \n",
        "        #Calculate the RMSE for the current iteration's testing set using knn (previously nneighbor) to model the training set.\n",
        "        #Append this RMSE value to the all_rmse array\n",
        "        all_rmse.append(knn(current_test, current_train, length, K))\n",
        "        \n",
        "        #Before implementing knn, I used the following function to calculate each rmse using nneighbor function\n",
        "        #all_rmse.append(nneighbor(current_test, current_train, length))\n",
        "        \n",
        "    #After completing each fold's iteration, calculate and return the average RMSE over all folds.\n",
        "    avg_rmse = np.mean(all_rmse)\n",
        "    \n",
        "    #Report the Total time taken to perform cross-validation\n",
        "    print(\"Time taken for all folds: \" + str(round(time.time() - my_start_time,2)) + \" seconds\")\n",
        "    return(avg_rmse)\n",
        "\n",
        "#Run my_kfolds function for the full boston housing dataframe using 10-fold cross-validation\n",
        "#Use CRIM and RM as the predicting features for the response feature MEDV. (K=1 default implied for this part)\n",
        "nn_tenfolds = my_kfolds(boston_df, 10, [\"CRIM\",\"RM\",\"MEDV\"])\n",
        "print(\"Average RMSE for ten-fold cross-validation: %.4f\" % (nn_tenfolds))"
      ],
      "metadata": {
        "colab": {
          "base_uri": "https://localhost:8080/"
        },
        "id": "xekepEW2xdIn",
        "outputId": "424092bc-6b7a-41e3-f6f7-a096f0a17c91"
      },
      "execution_count": null,
      "outputs": [
        {
          "output_type": "stream",
          "name": "stdout",
          "text": [
            "Time taken: 0.15 seconds\n",
            "Time taken: 0.14 seconds\n",
            "Time taken: 0.14 seconds\n",
            "Time taken: 0.12 seconds\n",
            "Time taken: 0.13 seconds\n",
            "Time taken: 0.21 seconds\n",
            "Time taken: 0.34 seconds\n",
            "Time taken: 0.17 seconds\n",
            "Time taken: 0.06 seconds\n",
            "Time taken: 0.06 seconds\n",
            "Time taken for all folds: 1.82 seconds\n",
            "Average RMSE for ten-fold cross-validation: 6.5594\n"
          ]
        }
      ]
    },
    {
      "cell_type": "code",
      "source": [
        "nn_k_three = my_kfolds(boston_df, 10, [\"CRIM\",\"RM\",\"MEDV\"], K=3)\n",
        "print(\"RMSE of k-nearest neighbors with K=3: %.4f\" % (nn_k_three))"
      ],
      "metadata": {
        "colab": {
          "base_uri": "https://localhost:8080/"
        },
        "id": "e_TmxkmAxfMJ",
        "outputId": "d8f33ad7-f184-4771-ba1a-0b19d60dc034"
      },
      "execution_count": null,
      "outputs": [
        {
          "output_type": "stream",
          "name": "stdout",
          "text": [
            "Time taken: 0.11 seconds\n",
            "Time taken: 0.12 seconds\n",
            "Time taken: 0.12 seconds\n",
            "Time taken: 0.12 seconds\n",
            "Time taken: 0.12 seconds\n",
            "Time taken: 0.11 seconds\n",
            "Time taken: 0.13 seconds\n",
            "Time taken: 0.12 seconds\n",
            "Time taken: 0.09 seconds\n",
            "Time taken: 0.06 seconds\n",
            "Time taken for all folds: 1.34 seconds\n",
            "RMSE of k-nearest neighbors with K=3: 5.6456\n"
          ]
        }
      ]
    },
    {
      "cell_type": "code",
      "source": [
        "K_min = 1\n",
        "K_max = 25\n",
        "\n",
        "#Set predicting features and MEDV as response\n",
        "feats = [\"CRIM\",\"ZN\",\"RM\",\"AGE\",\"DIS\",\"TAX\",\"MEDV\"]\n",
        "\n",
        "#Run 10-fold cross-validation for K=1,2,...,25 neighbors\n",
        "np.random.seed(seed=13579)\n",
        "nn_K = []\n",
        "total_start_time = time.time()\n",
        "for i in range(K_min, K_max+1):\n",
        "    current_knn = my_kfolds(boston_df, 10, feats, K=i)\n",
        "    nn_K.append(current_knn)\n",
        "print(\"Total time taken for all folds using K=1,2,...,25 nearest neighbors: \" + str(round(time.time() - total_start_time,2)) + \" seconds\")"
      ],
      "metadata": {
        "colab": {
          "base_uri": "https://localhost:8080/"
        },
        "id": "T4dw7IcExlwX",
        "outputId": "916c2471-4a22-4158-de97-49006eef4f39"
      },
      "execution_count": null,
      "outputs": [
        {
          "output_type": "stream",
          "name": "stdout",
          "text": [
            "Time taken: 0.11 seconds\n",
            "Time taken: 0.12 seconds\n",
            "Time taken: 0.12 seconds\n",
            "Time taken: 0.12 seconds\n",
            "Time taken: 0.12 seconds\n",
            "Time taken: 0.12 seconds\n",
            "Time taken: 0.13 seconds\n",
            "Time taken: 0.11 seconds\n",
            "Time taken: 0.12 seconds\n",
            "Time taken: 0.11 seconds\n",
            "Time taken for all folds: 1.33 seconds\n",
            "Time taken: 0.13 seconds\n",
            "Time taken: 0.12 seconds\n",
            "Time taken: 0.12 seconds\n",
            "Time taken: 0.12 seconds\n",
            "Time taken: 0.13 seconds\n",
            "Time taken: 0.12 seconds\n",
            "Time taken: 0.12 seconds\n",
            "Time taken: 0.12 seconds\n",
            "Time taken: 0.13 seconds\n",
            "Time taken: 0.12 seconds\n",
            "Time taken for all folds: 1.36 seconds\n",
            "Time taken: 0.12 seconds\n",
            "Time taken: 0.14 seconds\n",
            "Time taken: 0.12 seconds\n",
            "Time taken: 0.12 seconds\n",
            "Time taken: 0.12 seconds\n",
            "Time taken: 0.12 seconds\n",
            "Time taken: 0.12 seconds\n",
            "Time taken: 0.12 seconds\n",
            "Time taken: 0.12 seconds\n",
            "Time taken: 0.13 seconds\n",
            "Time taken for all folds: 1.36 seconds\n",
            "Time taken: 0.12 seconds\n",
            "Time taken: 0.11 seconds\n",
            "Time taken: 0.12 seconds\n",
            "Time taken: 0.11 seconds\n",
            "Time taken: 0.12 seconds\n",
            "Time taken: 0.12 seconds\n",
            "Time taken: 0.14 seconds\n",
            "Time taken: 0.12 seconds\n",
            "Time taken: 0.12 seconds\n",
            "Time taken: 0.13 seconds\n",
            "Time taken for all folds: 1.35 seconds\n",
            "Time taken: 0.13 seconds\n",
            "Time taken: 0.12 seconds\n",
            "Time taken: 0.11 seconds\n",
            "Time taken: 0.11 seconds\n",
            "Time taken: 0.14 seconds\n",
            "Time taken: 0.13 seconds\n",
            "Time taken: 0.13 seconds\n",
            "Time taken: 0.11 seconds\n",
            "Time taken: 0.13 seconds\n",
            "Time taken: 0.12 seconds\n",
            "Time taken for all folds: 1.37 seconds\n",
            "Time taken: 0.12 seconds\n",
            "Time taken: 0.14 seconds\n",
            "Time taken: 0.12 seconds\n",
            "Time taken: 0.11 seconds\n",
            "Time taken: 0.12 seconds\n",
            "Time taken: 0.12 seconds\n",
            "Time taken: 0.12 seconds\n",
            "Time taken: 0.12 seconds\n",
            "Time taken: 0.12 seconds\n",
            "Time taken: 0.12 seconds\n",
            "Time taken for all folds: 1.35 seconds\n",
            "Time taken: 0.13 seconds\n",
            "Time taken: 0.12 seconds\n",
            "Time taken: 0.12 seconds\n",
            "Time taken: 0.11 seconds\n",
            "Time taken: 0.12 seconds\n",
            "Time taken: 0.12 seconds\n",
            "Time taken: 0.13 seconds\n",
            "Time taken: 0.11 seconds\n",
            "Time taken: 0.12 seconds\n",
            "Time taken: 0.12 seconds\n",
            "Time taken for all folds: 1.34 seconds\n",
            "Time taken: 0.12 seconds\n",
            "Time taken: 0.12 seconds\n",
            "Time taken: 0.12 seconds\n",
            "Time taken: 0.12 seconds\n",
            "Time taken: 0.14 seconds\n",
            "Time taken: 0.12 seconds\n",
            "Time taken: 0.12 seconds\n",
            "Time taken: 0.12 seconds\n",
            "Time taken: 0.12 seconds\n",
            "Time taken: 0.11 seconds\n",
            "Time taken for all folds: 1.36 seconds\n",
            "Time taken: 0.12 seconds\n",
            "Time taken: 0.11 seconds\n",
            "Time taken: 0.13 seconds\n",
            "Time taken: 0.11 seconds\n",
            "Time taken: 0.12 seconds\n",
            "Time taken: 0.12 seconds\n",
            "Time taken: 0.12 seconds\n",
            "Time taken: 0.12 seconds\n",
            "Time taken: 0.13 seconds\n",
            "Time taken: 0.13 seconds\n",
            "Time taken for all folds: 1.36 seconds\n",
            "Time taken: 0.12 seconds\n",
            "Time taken: 0.12 seconds\n",
            "Time taken: 0.12 seconds\n",
            "Time taken: 0.12 seconds\n",
            "Time taken: 0.12 seconds\n",
            "Time taken: 0.12 seconds\n",
            "Time taken: 0.12 seconds\n",
            "Time taken: 0.13 seconds\n",
            "Time taken: 0.13 seconds\n",
            "Time taken: 0.11 seconds\n",
            "Time taken for all folds: 1.35 seconds\n",
            "Time taken: 0.12 seconds\n",
            "Time taken: 0.12 seconds\n",
            "Time taken: 0.11 seconds\n",
            "Time taken: 0.12 seconds\n",
            "Time taken: 0.13 seconds\n",
            "Time taken: 0.12 seconds\n",
            "Time taken: 0.11 seconds\n",
            "Time taken: 0.11 seconds\n",
            "Time taken: 0.12 seconds\n",
            "Time taken: 0.11 seconds\n",
            "Time taken for all folds: 1.3 seconds\n",
            "Time taken: 0.12 seconds\n",
            "Time taken: 0.11 seconds\n",
            "Time taken: 0.13 seconds\n",
            "Time taken: 0.11 seconds\n",
            "Time taken: 0.12 seconds\n",
            "Time taken: 0.12 seconds\n",
            "Time taken: 0.12 seconds\n",
            "Time taken: 0.11 seconds\n",
            "Time taken: 0.11 seconds\n",
            "Time taken: 0.11 seconds\n",
            "Time taken for all folds: 1.29 seconds\n",
            "Time taken: 0.12 seconds\n",
            "Time taken: 0.11 seconds\n",
            "Time taken: 0.11 seconds\n",
            "Time taken: 0.12 seconds\n",
            "Time taken: 0.12 seconds\n",
            "Time taken: 0.12 seconds\n",
            "Time taken: 0.12 seconds\n",
            "Time taken: 0.11 seconds\n",
            "Time taken: 0.12 seconds\n",
            "Time taken: 0.11 seconds\n",
            "Time taken for all folds: 1.32 seconds\n",
            "Time taken: 0.12 seconds\n",
            "Time taken: 0.12 seconds\n",
            "Time taken: 0.11 seconds\n",
            "Time taken: 0.14 seconds\n",
            "Time taken: 0.12 seconds\n",
            "Time taken: 0.11 seconds\n",
            "Time taken: 0.13 seconds\n",
            "Time taken: 0.11 seconds\n",
            "Time taken: 0.11 seconds\n",
            "Time taken: 0.11 seconds\n",
            "Time taken for all folds: 1.3 seconds\n",
            "Time taken: 0.12 seconds\n",
            "Time taken: 0.11 seconds\n",
            "Time taken: 0.12 seconds\n",
            "Time taken: 0.11 seconds\n",
            "Time taken: 0.12 seconds\n",
            "Time taken: 0.11 seconds\n",
            "Time taken: 0.12 seconds\n",
            "Time taken: 0.11 seconds\n",
            "Time taken: 0.12 seconds\n",
            "Time taken: 0.12 seconds\n",
            "Time taken for all folds: 1.28 seconds\n",
            "Time taken: 0.11 seconds\n",
            "Time taken: 0.11 seconds\n",
            "Time taken: 0.14 seconds\n",
            "Time taken: 0.12 seconds\n",
            "Time taken: 0.12 seconds\n",
            "Time taken: 0.12 seconds\n",
            "Time taken: 0.12 seconds\n",
            "Time taken: 0.11 seconds\n",
            "Time taken: 0.12 seconds\n",
            "Time taken: 0.12 seconds\n",
            "Time taken for all folds: 1.35 seconds\n",
            "Time taken: 0.12 seconds\n",
            "Time taken: 0.12 seconds\n",
            "Time taken: 0.12 seconds\n",
            "Time taken: 0.11 seconds\n",
            "Time taken: 0.11 seconds\n",
            "Time taken: 0.11 seconds\n",
            "Time taken: 0.11 seconds\n",
            "Time taken: 0.13 seconds\n",
            "Time taken: 0.11 seconds\n",
            "Time taken: 0.12 seconds\n",
            "Time taken for all folds: 1.3 seconds\n",
            "Time taken: 0.11 seconds\n",
            "Time taken: 0.12 seconds\n",
            "Time taken: 0.12 seconds\n",
            "Time taken: 0.11 seconds\n",
            "Time taken: 0.12 seconds\n",
            "Time taken: 0.12 seconds\n",
            "Time taken: 0.11 seconds\n",
            "Time taken: 0.11 seconds\n",
            "Time taken: 0.11 seconds\n",
            "Time taken: 0.11 seconds\n",
            "Time taken for all folds: 1.29 seconds\n",
            "Time taken: 0.13 seconds\n",
            "Time taken: 0.12 seconds\n",
            "Time taken: 0.12 seconds\n",
            "Time taken: 0.12 seconds\n",
            "Time taken: 0.11 seconds\n",
            "Time taken: 0.11 seconds\n",
            "Time taken: 0.11 seconds\n",
            "Time taken: 0.11 seconds\n",
            "Time taken: 0.12 seconds\n",
            "Time taken: 0.11 seconds\n",
            "Time taken for all folds: 1.3 seconds\n",
            "Time taken: 0.11 seconds\n",
            "Time taken: 0.12 seconds\n",
            "Time taken: 0.12 seconds\n",
            "Time taken: 0.11 seconds\n",
            "Time taken: 0.11 seconds\n",
            "Time taken: 0.11 seconds\n",
            "Time taken: 0.11 seconds\n",
            "Time taken: 0.11 seconds\n",
            "Time taken: 0.11 seconds\n",
            "Time taken: 0.12 seconds\n",
            "Time taken for all folds: 1.27 seconds\n",
            "Time taken: 0.12 seconds\n",
            "Time taken: 0.11 seconds\n",
            "Time taken: 0.12 seconds\n",
            "Time taken: 0.11 seconds\n",
            "Time taken: 0.12 seconds\n",
            "Time taken: 0.11 seconds\n",
            "Time taken: 0.12 seconds\n",
            "Time taken: 0.11 seconds\n",
            "Time taken: 0.12 seconds\n",
            "Time taken: 0.11 seconds\n",
            "Time taken for all folds: 1.28 seconds\n",
            "Time taken: 0.11 seconds\n",
            "Time taken: 0.11 seconds\n",
            "Time taken: 0.12 seconds\n",
            "Time taken: 0.12 seconds\n",
            "Time taken: 0.13 seconds\n",
            "Time taken: 0.12 seconds\n",
            "Time taken: 0.12 seconds\n",
            "Time taken: 0.11 seconds\n",
            "Time taken: 0.12 seconds\n",
            "Time taken: 0.11 seconds\n",
            "Time taken for all folds: 1.31 seconds\n",
            "Time taken: 0.12 seconds\n",
            "Time taken: 0.12 seconds\n",
            "Time taken: 0.12 seconds\n",
            "Time taken: 0.11 seconds\n",
            "Time taken: 0.11 seconds\n",
            "Time taken: 0.11 seconds\n",
            "Time taken: 0.11 seconds\n",
            "Time taken: 0.11 seconds\n",
            "Time taken: 0.12 seconds\n",
            "Time taken: 0.13 seconds\n",
            "Time taken for all folds: 1.29 seconds\n",
            "Time taken: 0.12 seconds\n",
            "Time taken: 0.12 seconds\n",
            "Time taken: 0.11 seconds\n",
            "Time taken: 0.12 seconds\n",
            "Time taken: 0.12 seconds\n",
            "Time taken: 0.11 seconds\n",
            "Time taken: 0.13 seconds\n",
            "Time taken: 0.11 seconds\n",
            "Time taken: 0.13 seconds\n",
            "Time taken: 0.11 seconds\n",
            "Time taken for all folds: 1.3 seconds\n",
            "Time taken: 0.11 seconds\n",
            "Time taken: 0.11 seconds\n",
            "Time taken: 0.11 seconds\n",
            "Time taken: 0.11 seconds\n",
            "Time taken: 0.12 seconds\n",
            "Time taken: 0.11 seconds\n",
            "Time taken: 0.13 seconds\n",
            "Time taken: 0.12 seconds\n",
            "Time taken: 0.13 seconds\n",
            "Time taken: 0.12 seconds\n",
            "Time taken for all folds: 1.31 seconds\n",
            "Total time taken for all folds using K=1,2,...,25 nearest neighbors: 33.01 seconds\n"
          ]
        }
      ]
    },
    {
      "cell_type": "code",
      "source": [
        "#Plot a line showing the calculated average RMSE for 10-fold cross-validation for the model.\n",
        "#Predicting features [\"CRIM\",\"ZN\",\"RM\",\"AGE\",\"DIS\",\"TAX\"] used for \n",
        "#Predicted response [\"MEDV\"]\n",
        "\n",
        "#Assign K_values as a sequence from 1 to 25 for the plot's x-axis.\n",
        "K_values = np.arange(K_min, K_max+1)\n",
        "\n",
        "#Find K with largest and smallest RMSE for plot\n",
        "max_knn_RMSE = -1\n",
        "min_knn_RMSE = 10000\n",
        "max_knn_K = 0\n",
        "min_knn_K = 0\n",
        "for i in range(len(nn_K)):\n",
        "    if nn_K[i] > max_knn_RMSE:\n",
        "        max_knn_RMSE = nn_K[i]\n",
        "        max_knn_K = i+1\n",
        "    if nn_K[i] < min_knn_RMSE:\n",
        "        min_knn_RMSE = nn_K[i]\n",
        "        min_knn_K = i+1\n",
        "\n",
        "#Create plot space, and draw the trend line\n",
        "ax3 = plt.subplot(111)\n",
        "ax3.plot(K_values, nn_K, linewidth=2)\n",
        "\n",
        "#Add horizontal lines to highlight the maximum and minimum average RMSEs\n",
        "ax3.axhline(y=max_knn_RMSE, ls=\"--\", c=\"red\")\n",
        "ax3.axhline(y=min_knn_RMSE, ls=\"--\", c=\"green\")\n",
        "\n",
        "#Add text for the (K,avg_rmse) pairs corresponding to the minimum and maximum average RMSEs\n",
        "ax3.text(x=max_knn_K, y=max_knn_RMSE+0.05, s=\"(K=%i,RMSE=%.4f)\" % (max_knn_K,max_knn_RMSE), fontsize=10)\n",
        "ax3.text(x=min_knn_K, y=min_knn_RMSE-0.1, s=\"(K=%i,RMSE=%.4f)\" % (min_knn_K,min_knn_RMSE), fontsize=10)\n",
        "\n",
        "#Set wider bounds for y-axis\n",
        "\n",
        "ax3.set_ybound(4.5,6.5)\n",
        "\n",
        "#Get rid of axes and tick marks on top and right\n",
        "ax3.spines[\"right\"].set_visible(False)\n",
        "ax3.spines[\"top\"].set_visible(False)\n",
        "ax3.yaxis.set_ticks_position(\"left\")\n",
        "ax3.xaxis.set_ticks_position(\"bottom\")\n",
        "\n",
        "#Add title, xlabels, and ylabels\n",
        "plt.title(\"RMSE vs. K Neighbors\")\n",
        "plt.xlabel(\"Number of Neighbors (K)\")\n",
        "plt.ylabel(\"Average RMSE\")\n",
        "\n",
        "#Show Plot\n",
        "plt.show()"
      ],
      "metadata": {
        "colab": {
          "base_uri": "https://localhost:8080/",
          "height": 315
        },
        "id": "Mn67285rx2ze",
        "outputId": "89f59834-77c6-4e52-f472-7b7d702e669a"
      },
      "execution_count": null,
      "outputs": [
        {
          "output_type": "display_data",
          "data": {
            "text/plain": [
              "<Figure size 432x288 with 1 Axes>"
            ],
            "image/png": "[encoded data removed]"
          },
          "metadata": {
            "needs_background": "light"
          }
        }
      ]
    }
  ]
}